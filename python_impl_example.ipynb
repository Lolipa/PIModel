{
 "cells": [
  {
   "cell_type": "code",
   "execution_count": 2,
   "metadata": {
    "collapsed": false
   },
   "outputs": [],
   "source": [
    "from itertools import chain\n",
    "from collections import defaultdict\n",
    "import numpy as np\n",
    "import pandas as pd\n",
    "import matplotlib.pyplot as plt\n",
    "from model import py_model as model\n",
    "from model import power_law_distribution as dist"
   ]
  },
  {
   "cell_type": "code",
   "execution_count": 3,
   "metadata": {
    "collapsed": true
   },
   "outputs": [],
   "source": [
    "%matplotlib inline\n",
    "np.random.seed(42)"
   ]
  },
  {
   "cell_type": "markdown",
   "metadata": {},
   "source": [
    "# Example"
   ]
  },
  {
   "cell_type": "code",
   "execution_count": 4,
   "metadata": {
    "collapsed": false
   },
   "outputs": [],
   "source": [
    "num_users = 200\n",
    "num_iterations = 2000\n",
    "\n",
    "inv_cdf = dist.inv_cdf(2.7, 10**-3) \n",
    "actyivity_potentials = dist.inverse_transform_sampling(inv_cdf)\n",
    "\n",
    "interactions, deleted_users = model.model(num_iterations, \n",
    "                                          num_users, \n",
    "                                          actyivity_potentials, \n",
    "                                          p_deletion=0.0005, \n",
    "                                          p_triadic_closure=0.95, \n",
    "                                          link_reinforecement_inc=1.0, \n",
    "                                          max_peer_influence_prob=0.05,\n",
    "                                          peer_influence_thes=0.1,\n",
    "                                          beta='avg_weight')"
   ]
  },
  {
   "cell_type": "code",
   "execution_count": 5,
   "metadata": {
    "collapsed": false
   },
   "outputs": [
    {
     "data": {
      "text/html": [
       "<div>\n",
       "<table border=\"1\" class=\"dataframe\">\n",
       "  <thead>\n",
       "    <tr style=\"text-align: right;\">\n",
       "      <th></th>\n",
       "      <th>timestep</th>\n",
       "      <th>active_user</th>\n",
       "      <th>other_user</th>\n",
       "      <th>peer_influenced</th>\n",
       "    </tr>\n",
       "  </thead>\n",
       "  <tbody>\n",
       "    <tr>\n",
       "      <th>1299</th>\n",
       "      <td>1990</td>\n",
       "      <td>121</td>\n",
       "      <td>2</td>\n",
       "      <td>False</td>\n",
       "    </tr>\n",
       "    <tr>\n",
       "      <th>1300</th>\n",
       "      <td>1994</td>\n",
       "      <td>252</td>\n",
       "      <td>317</td>\n",
       "      <td>False</td>\n",
       "    </tr>\n",
       "    <tr>\n",
       "      <th>1301</th>\n",
       "      <td>1995</td>\n",
       "      <td>394</td>\n",
       "      <td>105</td>\n",
       "      <td>False</td>\n",
       "    </tr>\n",
       "    <tr>\n",
       "      <th>1302</th>\n",
       "      <td>1996</td>\n",
       "      <td>171</td>\n",
       "      <td>242</td>\n",
       "      <td>False</td>\n",
       "    </tr>\n",
       "    <tr>\n",
       "      <th>1303</th>\n",
       "      <td>1997</td>\n",
       "      <td>185</td>\n",
       "      <td>321</td>\n",
       "      <td>False</td>\n",
       "    </tr>\n",
       "  </tbody>\n",
       "</table>\n",
       "</div>"
      ],
      "text/plain": [
       "      timestep  active_user  other_user peer_influenced\n",
       "1299      1990          121           2           False\n",
       "1300      1994          252         317           False\n",
       "1301      1995          394         105           False\n",
       "1302      1996          171         242           False\n",
       "1303      1997          185         321           False"
      ]
     },
     "execution_count": 5,
     "metadata": {},
     "output_type": "execute_result"
    }
   ],
   "source": [
    "# transform list of events into a pandas DataFrame\n",
    "interaction_log = pd.DataFrame(interactions, columns=['timestep', 'active_user', 'other_user', 'peer_influenced'])\n",
    "interaction_log.tail()"
   ]
  },
  {
   "cell_type": "code",
   "execution_count": 6,
   "metadata": {
    "collapsed": false
   },
   "outputs": [
    {
     "data": {
      "text/html": [
       "<div>\n",
       "<table border=\"1\" class=\"dataframe\">\n",
       "  <thead>\n",
       "    <tr style=\"text-align: right;\">\n",
       "      <th></th>\n",
       "      <th>User 103</th>\n",
       "      <th>User 104</th>\n",
       "      <th>User 105</th>\n",
       "      <th>User 114</th>\n",
       "      <th>User 115</th>\n",
       "      <th>User 118</th>\n",
       "      <th>User 119</th>\n",
       "      <th>User 121</th>\n",
       "      <th>User 123</th>\n",
       "      <th>User 127</th>\n",
       "      <th>...</th>\n",
       "      <th>User 78</th>\n",
       "      <th>User 84</th>\n",
       "      <th>User 89</th>\n",
       "      <th>User 90</th>\n",
       "      <th>User 91</th>\n",
       "      <th>User 93</th>\n",
       "      <th>User 94</th>\n",
       "      <th>User 96</th>\n",
       "      <th>User 98</th>\n",
       "      <th>User 99</th>\n",
       "    </tr>\n",
       "  </thead>\n",
       "  <tbody>\n",
       "    <tr>\n",
       "      <th>1992</th>\n",
       "      <td>0</td>\n",
       "      <td>0</td>\n",
       "      <td>0</td>\n",
       "      <td>0</td>\n",
       "      <td>0</td>\n",
       "      <td>0</td>\n",
       "      <td>0</td>\n",
       "      <td>0</td>\n",
       "      <td>0</td>\n",
       "      <td>0</td>\n",
       "      <td>...</td>\n",
       "      <td>0</td>\n",
       "      <td>0</td>\n",
       "      <td>0</td>\n",
       "      <td>0</td>\n",
       "      <td>0</td>\n",
       "      <td>0</td>\n",
       "      <td>0</td>\n",
       "      <td>0</td>\n",
       "      <td>0</td>\n",
       "      <td>0</td>\n",
       "    </tr>\n",
       "    <tr>\n",
       "      <th>1993</th>\n",
       "      <td>0</td>\n",
       "      <td>0</td>\n",
       "      <td>0</td>\n",
       "      <td>0</td>\n",
       "      <td>0</td>\n",
       "      <td>0</td>\n",
       "      <td>0</td>\n",
       "      <td>0</td>\n",
       "      <td>0</td>\n",
       "      <td>0</td>\n",
       "      <td>...</td>\n",
       "      <td>0</td>\n",
       "      <td>0</td>\n",
       "      <td>0</td>\n",
       "      <td>0</td>\n",
       "      <td>0</td>\n",
       "      <td>0</td>\n",
       "      <td>0</td>\n",
       "      <td>0</td>\n",
       "      <td>0</td>\n",
       "      <td>0</td>\n",
       "    </tr>\n",
       "    <tr>\n",
       "      <th>1994</th>\n",
       "      <td>0</td>\n",
       "      <td>0</td>\n",
       "      <td>1</td>\n",
       "      <td>0</td>\n",
       "      <td>0</td>\n",
       "      <td>0</td>\n",
       "      <td>0</td>\n",
       "      <td>0</td>\n",
       "      <td>0</td>\n",
       "      <td>0</td>\n",
       "      <td>...</td>\n",
       "      <td>0</td>\n",
       "      <td>0</td>\n",
       "      <td>0</td>\n",
       "      <td>0</td>\n",
       "      <td>0</td>\n",
       "      <td>0</td>\n",
       "      <td>0</td>\n",
       "      <td>0</td>\n",
       "      <td>0</td>\n",
       "      <td>0</td>\n",
       "    </tr>\n",
       "    <tr>\n",
       "      <th>1995</th>\n",
       "      <td>0</td>\n",
       "      <td>0</td>\n",
       "      <td>0</td>\n",
       "      <td>0</td>\n",
       "      <td>0</td>\n",
       "      <td>0</td>\n",
       "      <td>0</td>\n",
       "      <td>0</td>\n",
       "      <td>0</td>\n",
       "      <td>0</td>\n",
       "      <td>...</td>\n",
       "      <td>0</td>\n",
       "      <td>0</td>\n",
       "      <td>0</td>\n",
       "      <td>0</td>\n",
       "      <td>0</td>\n",
       "      <td>0</td>\n",
       "      <td>0</td>\n",
       "      <td>0</td>\n",
       "      <td>0</td>\n",
       "      <td>0</td>\n",
       "    </tr>\n",
       "    <tr>\n",
       "      <th>1996</th>\n",
       "      <td>0</td>\n",
       "      <td>0</td>\n",
       "      <td>0</td>\n",
       "      <td>0</td>\n",
       "      <td>0</td>\n",
       "      <td>0</td>\n",
       "      <td>0</td>\n",
       "      <td>0</td>\n",
       "      <td>0</td>\n",
       "      <td>0</td>\n",
       "      <td>...</td>\n",
       "      <td>0</td>\n",
       "      <td>0</td>\n",
       "      <td>0</td>\n",
       "      <td>0</td>\n",
       "      <td>0</td>\n",
       "      <td>0</td>\n",
       "      <td>0</td>\n",
       "      <td>0</td>\n",
       "      <td>0</td>\n",
       "      <td>0</td>\n",
       "    </tr>\n",
       "  </tbody>\n",
       "</table>\n",
       "<p>5 rows × 198 columns</p>\n",
       "</div>"
      ],
      "text/plain": [
       "      User 103  User 104  User 105  User 114  User 115  User 118  User 119  \\\n",
       "1992         0         0         0         0         0         0         0   \n",
       "1993         0         0         0         0         0         0         0   \n",
       "1994         0         0         1         0         0         0         0   \n",
       "1995         0         0         0         0         0         0         0   \n",
       "1996         0         0         0         0         0         0         0   \n",
       "\n",
       "      User 121  User 123  User 127   ...     User 78  User 84  User 89  \\\n",
       "1992         0         0         0   ...           0        0        0   \n",
       "1993         0         0         0   ...           0        0        0   \n",
       "1994         0         0         0   ...           0        0        0   \n",
       "1995         0         0         0   ...           0        0        0   \n",
       "1996         0         0         0   ...           0        0        0   \n",
       "\n",
       "      User 90  User 91  User 93  User 94  User 96  User 98  User 99  \n",
       "1992        0        0        0        0        0        0        0  \n",
       "1993        0        0        0        0        0        0        0  \n",
       "1994        0        0        0        0        0        0        0  \n",
       "1995        0        0        0        0        0        0        0  \n",
       "1996        0        0        0        0        0        0        0  \n",
       "\n",
       "[5 rows x 198 columns]"
      ]
     },
     "execution_count": 6,
     "metadata": {},
     "output_type": "execute_result"
    }
   ],
   "source": [
    "# create multivariate time series\n",
    "def create_ts(log, begin=None, end=None, dtype='int8'):\n",
    "    maxima = np.max(log)\n",
    "    max_user_id = int(np.max([maxima['active_user'], maxima['other_user']])) + 1   \n",
    "    \n",
    "    if begin:\n",
    "        log = log[log['timestep'] >= begin]\n",
    "    if end:\n",
    "        log = log[log['timestep'] <= end]\n",
    "    \n",
    "    begin = np.min(log['timestep'])\n",
    "    ts_length = np.max(log['timestep']) - np.min(log['timestep']) + 1\n",
    "    ts = np.zeros(shape=(ts_length, max_user_id), dtype=dtype)\n",
    "\n",
    "    for t, users in log.groupby('timestep'):\n",
    "        for user_id in chain(users['active_user'], users['other_user']):\n",
    "            ts[t - begin][user_id] =+ 1\n",
    "\n",
    "    return pd.DataFrame(\n",
    "        ts, \n",
    "        columns=['User {}'.format(user_id) for user_id in range(max_user_id)]\n",
    "    )   \n",
    "\n",
    "def filter_deleted_users(ts, delted_users):\n",
    "    #TODO: resort the colums correctly\n",
    "    return ts[ts.columns.difference(['User {}'.format(user_id) for user_id in deleted_users])]\n",
    "\n",
    "ts = create_ts(interaction_log)\n",
    "ts = filter_deleted_users(ts, deleted_users)\n",
    "ts.tail()"
   ]
  },
  {
   "cell_type": "code",
   "execution_count": 10,
   "metadata": {
    "collapsed": false
   },
   "outputs": [
    {
     "data": {
      "text/plain": [
       "Int64Index([231, 637, 1054, 1205, 1362, 1477, 1711, 1712, 1853, 1989], dtype='int64')"
      ]
     },
     "execution_count": 10,
     "metadata": {},
     "output_type": "execute_result"
    }
   ],
   "source": [
    "# at which times was User 2 active?\n",
    "ts[ts['User 2'] > 0].index"
   ]
  },
  {
   "cell_type": "code",
   "execution_count": null,
   "metadata": {
    "collapsed": false
   },
   "outputs": [],
   "source": []
  }
 ],
 "metadata": {
  "kernelspec": {
   "display_name": "Python 3",
   "language": "python",
   "name": "python3"
  },
  "language_info": {
   "codemirror_mode": {
    "name": "ipython",
    "version": 3
   },
   "file_extension": ".py",
   "mimetype": "text/x-python",
   "name": "python",
   "nbconvert_exporter": "python",
   "pygments_lexer": "ipython3",
   "version": "3.6.0"
  }
 },
 "nbformat": 4,
 "nbformat_minor": 1
}
